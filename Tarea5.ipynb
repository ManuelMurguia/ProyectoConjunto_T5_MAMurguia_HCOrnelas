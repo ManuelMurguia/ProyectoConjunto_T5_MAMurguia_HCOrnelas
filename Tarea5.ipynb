{
 "cells": [
  {
   "cell_type": "markdown",
   "metadata": {},
   "source": [
    "<img style=\"float: left; margin: 30px 15px 15px 15px;\" src=\"https://encrypted-tbn0.gstatic.com/images?q=tbn:ANd9GcTFzQj91sOlkeDFkg5HDbjtR4QJYmLXkfMNig&usqp=CAU\" width=\"400\" height=\"500\" /> \n",
    "    \n",
    "    \n",
    "### <font color='navy'> Modelos no lineales para pronósticos. \n",
    "\n",
    "**Nombres:** \n",
    "- Manuel Alejandro Murguia Orantes\n",
    "- Hector Cesar Ornelas Leon\n",
    "\n",
    "**Fecha:** 12 de marzo de 2024\n",
    "\n",
    "**Expediente** : \n",
    "- 739360\n",
    "- 738146 \n",
    "    \n",
    "**Profesor:** Oscar David Jaramillo Zuluaga.\n",
    "    \n",
    "**Link Github**: https://github.com/ManuelMurguia/ProyectoConjunto_T5_MAMurguia_HCOrnelas\n",
    "\n",
    "# Tarea 5: Clase 13"
   ]
  },
  {
   "cell_type": "markdown",
   "metadata": {},
   "source": [
    "# <font color= red>  Tarea  </font>\n",
    "\n",
    "Implementar todas las técnicas vistas en esta clase al siguiente dataset para predecir el precio de las viviendas:\n",
    "\n",
    "https://www.kaggle.com/datasets/yasserh/housing-prices-dataset"
   ]
  },
  {
   "cell_type": "markdown",
   "metadata": {},
   "source": [
    "Código de solución estudiante 1: Manuel Murguia"
   ]
  },
  {
   "cell_type": "code",
   "execution_count": null,
   "metadata": {},
   "outputs": [],
   "source": [
    "# Código de solución estudiante 1\n",
    ".\n",
    ".\n",
    ".\n",
    ".\n"
   ]
  },
  {
   "cell_type": "markdown",
   "metadata": {},
   "source": [
    "Código de solución estudiante 2: Hector Ornelas"
   ]
  },
  {
   "cell_type": "code",
   "execution_count": null,
   "metadata": {},
   "outputs": [],
   "source": [
    "# Código de solución estudiante 2\n",
    ".\n",
    ".\n",
    ".\n",
    ".\n"
   ]
  }
 ],
 "metadata": {
  "kernelspec": {
   "display_name": "Python 3 (ipykernel)",
   "language": "python",
   "name": "python3"
  },
  "language_info": {
   "codemirror_mode": {
    "name": "ipython",
    "version": 3
   },
   "file_extension": ".py",
   "mimetype": "text/x-python",
   "name": "python",
   "nbconvert_exporter": "python",
   "pygments_lexer": "ipython3",
   "version": "3.12.1"
  }
 },
 "nbformat": 4,
 "nbformat_minor": 4
}
